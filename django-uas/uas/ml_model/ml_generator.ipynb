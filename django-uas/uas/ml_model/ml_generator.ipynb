{
 "cells": [
  {
   "cell_type": "code",
   "execution_count": 1,
   "metadata": {},
   "outputs": [],
   "source": [
    "import numpy as np\n",
    "import pandas as pd"
   ]
  },
  {
   "cell_type": "code",
   "execution_count": 5,
   "metadata": {},
   "outputs": [],
   "source": [
    "def generate_array(start, stop):\n",
    "    values = np.linspace(start, stop, 20)\n",
    "    variance = 0.1 * values\n",
    "    values += np.round(np.random.uniform(low=-variance, high=variance, size=20),3)\n",
    "    return values"
   ]
  },
  {
   "cell_type": "code",
   "execution_count": 3,
   "metadata": {},
   "outputs": [],
   "source": [
    "array = [[0,100,4,9,0,,0,100],[0,100,0,100,0,100,0,100],[0,50,0,10,0,14,0,100]]\n",
    "heading = [['protein', 'omega', 'salmonella', 'pembersihan'], ['muscle', 'darah', 'metana', 'pemotongan'], ['ecoli', 'warna', 'amonia', 'pengemasan']]\n",
    "csv_file = ['dairy.csv', 'redmeat.csv', 'whitemeat.csv']\n",
    "for i in range (3):\n",
    "    x = array[i]\n",
    "    data = pd.DataFrame({\n",
    "        heading[i][0]: generate_array(x[0],x[1]),\n",
    "        heading[i][1]: generate_array(x[2],x[3]),\n",
    "        heading[i][2]: generate_array(x[4],x[5]),\n",
    "        heading[i][3]: generate_array(x[6],x[7])\n",
    "        })\n",
    "    data.to_csv(csv_file[i], index=False)\n"
   ]
  },
  {
   "cell_type": "code",
   "execution_count": 6,
   "metadata": {},
   "outputs": [],
   "source": [
    "array = [[0,10000,0,5,50,500,0,10]]\n",
    "heading = [['care', 'harvest', 'promotion', 'profit']]\n",
    "csv_file = ['profit.csv']\n",
    "for i in range (1):\n",
    "    x = array[i]\n",
    "    data = pd.DataFrame({\n",
    "        heading[i][0]: generate_array(x[0],x[1]),\n",
    "        heading[i][1]: generate_array(x[2],x[3]),\n",
    "        heading[i][2]: generate_array(x[4],x[5]),\n",
    "        heading[i][3]: generate_array(x[6],x[7])\n",
    "        })\n",
    "    data.to_csv(csv_file[i], index=False)"
   ]
  },
  {
   "cell_type": "code",
   "execution_count": 7,
   "metadata": {},
   "outputs": [],
   "source": [
    "array = [[0,100,4,9,0,20,0,200]]\n",
    "heading = [['humidity', 'acidity', 'quality', 'waterflow']]\n",
    "csv_file = ['waterflow.csv']\n",
    "for i in range (1):\n",
    "    x = array[i]\n",
    "    data = pd.DataFrame({\n",
    "        heading[i][0]: generate_array(x[0],x[1]),\n",
    "        heading[i][1]: generate_array(x[2],x[3]),\n",
    "        heading[i][2]: generate_array(x[4],x[5]),\n",
    "        heading[i][3]: generate_array(x[6],x[7])\n",
    "        })\n",
    "    data.to_csv(csv_file[i], index=False)"
   ]
  },
  {
   "cell_type": "code",
   "execution_count": null,
   "metadata": {},
   "outputs": [],
   "source": []
  }
 ],
 "metadata": {
  "kernelspec": {
   "display_name": "Python 3.9.7 ('base')",
   "language": "python",
   "name": "python3"
  },
  "language_info": {
   "codemirror_mode": {
    "name": "ipython",
    "version": 3
   },
   "file_extension": ".py",
   "mimetype": "text/x-python",
   "name": "python",
   "nbconvert_exporter": "python",
   "pygments_lexer": "ipython3",
   "version": "3.9.7"
  },
  "orig_nbformat": 4,
  "vscode": {
   "interpreter": {
    "hash": "ad2bdc8ecc057115af97d19610ffacc2b4e99fae6737bb82f5d7fb13d2f2c186"
   }
  }
 },
 "nbformat": 4,
 "nbformat_minor": 2
}
